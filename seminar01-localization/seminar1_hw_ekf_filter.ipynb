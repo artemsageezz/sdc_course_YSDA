{
 "cells": [
  {
   "cell_type": "markdown",
   "metadata": {},
   "source": [
    "$$\n",
    "\\newcommand{\\boldr}{\\boldsymbol{r}}\n",
    "\\newcommand{\\boldx}{\\boldsymbol{x}}\n",
    "$$"
   ]
  },
  {
   "cell_type": "code",
   "execution_count": null,
   "metadata": {},
   "outputs": [],
   "source": [
    "import typing as T\n",
    "import numpy.typing as npt\n",
    "import numpy as np\n",
    "import math\n",
    "import matplotlib.pyplot as plt\n",
    "%matplotlib inline\n",
    "\n",
    "\n",
    "# Setting global matplotlib parameters\n",
    "import matplotlib\n",
    "matplotlib.rcParams['figure.figsize'] = (12, 10)\n",
    "matplotlib.rcParams['grid.alpha'] = 0.5\n",
    "matplotlib.rcParams['grid.linestyle'] = '--'\n",
    "matplotlib.rcParams['axes.labelsize'] = 16\n",
    "matplotlib.rcParams['xtick.labelsize'] = 'medium'\n",
    "matplotlib.rcParams['ytick.labelsize'] = 'medium'\n",
    "matplotlib.rcParams['legend.fontsize'] = 16"
   ]
  },
  {
   "cell_type": "markdown",
   "metadata": {},
   "source": [
    "<a name='_toc'></a>\n",
    "# Содержание\n",
    "* [Фигуры Лиссажу](#lissajous_curve)\n",
    "* [Создание искуственных данных](#artificial_data)\n",
    "* [Задание](#task)\n",
    "* [Калмановская фильтрация](#kalman_filtration)\n",
    "    * [Калмановское состояние](#kalman_state)\n",
    "    * [Transit & process](#kalman_transit_and_process)\n",
    "    * [Запуск фильтрации](#kalman_filtration_running)\n",
    "* [Визуализация результатов](#visualization)\n",
    "* [MSE](#mse)"
   ]
  },
  {
   "cell_type": "markdown",
   "metadata": {},
   "source": [
    "<a name='lissajous_curve'></a>\n",
    "## Траектория Лиссажу<sup>[toc](#_toc)</sup>"
   ]
  },
  {
   "cell_type": "markdown",
   "metadata": {},
   "source": [
    "\\begin{align*}\n",
    "x(t) = A_x cos(\\omega_x t + \\phi_x)\\\\\n",
    "y(t) = A_y cos(\\omega_y t + \\phi_y)\n",
    "\\end{align*}"
   ]
  },
  {
   "cell_type": "code",
   "execution_count": null,
   "metadata": {},
   "outputs": [],
   "source": [
    "# Setting periods for X and Y axes\n",
    "period_x = 30  # In [sec]onds\n",
    "period_y = 45  # In [sec]onds\n",
    "period = period_x * period_y / math.gcd(period_x, period_y) \n",
    "\n",
    "frequency_x = 1. / period_x  # In [Hz]\n",
    "frequency_y = 1. / period_y  # In [Hz]\n",
    "\n",
    "omega_x = 2 * np.pi * frequency_x\n",
    "omega_y = 2 * np.pi * frequency_y\n",
    "\n",
    "amplitude_x = 10.  # Amplitude along X axis\n",
    "amplitude_y = 10.  # Amplitude along Y axis\n",
    "\n",
    "phase_x = 0.\n",
    "phase_y = np.pi / 4.\n",
    "\n",
    "observation_period = 1. # Interval between system observation/trajectory sampling"
   ]
  },
  {
   "cell_type": "code",
   "execution_count": null,
   "metadata": {},
   "outputs": [],
   "source": [
    "min_time = 0.\n",
    "max_time = period\n",
    "times = np.arange(min_time, max_time, observation_period)"
   ]
  },
  {
   "cell_type": "code",
   "execution_count": null,
   "metadata": {},
   "outputs": [],
   "source": [
    "X = amplitude_x * np.cos(omega_x * times + phase_x)\n",
    "Y = amplitude_y * np.cos(omega_y * times + phase_y)\n",
    "\n",
    "plt.plot(X, Y, color='b', marker='o', ms=3)\n",
    "plt.scatter(X[0], Y[0], marker='*', color='green', s=81, label='start')\n",
    "plt.scatter(X[-1], Y[-1], marker='*', color='red', s=81, label='finish')\n",
    "plt.grid(which='both')\n",
    "plt.xlabel('x')\n",
    "plt.ylabel('y')\n",
    "plt.legend()\n",
    "\n",
    "del X, Y"
   ]
  },
  {
   "cell_type": "markdown",
   "metadata": {},
   "source": [
    "## Создание искуственных данных<sup>[toc](#_toc)</sup>"
   ]
  },
  {
   "cell_type": "markdown",
   "metadata": {},
   "source": [
    "* Положение ($x$, $y$)\n",
    "* Скорость $\\upsilon$\n",
    "* Угловая скорость $\\omega$\n",
    "\n",
    "#### Положение в момент времени $t$\n",
    "Тут все просто, так как уравнение кривой $\\boldr(t) = (x(t), y(t))^T$ нам задано явно:\n",
    "\\begin{align*}\n",
    "x(t) = A_x \\cos(\\omega_x t + \\phi_x)\\\\\n",
    "y(t) = A_y \\cos(\\omega_y t + \\phi_y)\n",
    "\\end{align*}\n",
    "\n",
    "#### Скорость в момент времени $t$\n",
    "Линейная скорость $\\upsilon(t)$ опредляется на основе заданного уравнения кривой $\\boldr(t)$ следующим образом:\n",
    "$$\n",
    "\\upsilon(t)^2 = v_x(t)^2 + v_y(t)^2 = \\left(\\frac{dx(t)}{dt}\\right)^2 + \\left(\\frac{dy(t)}{dt}\\right)^2 = A_x^2 \\omega_x \\sin(\\omega_x t + \\phi_x) + A_y^2 \\omega_y \\sin(\\omega_y t + \\phi_y)\n",
    "$$\n",
    "\n",
    "\n",
    "#### Угловая скорость в момент времени $t$\n",
    "\n",
    "$$\n",
    "\\gamma(t) = \\arctan \\frac{\\upsilon_y(t)}{\\upsilon_x(t)}\n",
    "$$\n",
    "\n",
    "$$\n",
    "\\omega(t) = \\frac{d\\gamma(t)}{dt} = \\frac{d}{dt} \\left( \\arctan \\frac{\\upsilon_y(t)}{\\upsilon_x(t)}\\right) = \\frac{1}{1 + (\\upsilon_x(t)/\\upsilon_y(t))^2} \\frac{\\frac{d\\upsilon_x(t)}{dt} \\upsilon_y(t) - \\upsilon_x(t) \\frac{d\\upsilon_y(t)}{dt}}{\\upsilon_y(t)^2} = \\frac{1}{\\upsilon_x(t)^2 + \\upsilon_y(t)^2} \\left( \\frac{d\\upsilon_x(t)}{dt} \\upsilon_y(t) - \\upsilon_x(t) \\frac{d\\upsilon_y(t)}{dt}\\right) =\n",
    "\\frac{\\dot{\\upsilon_x}(t)\\upsilon_y(t) - \\upsilon_x(t) \\dot{\\upsilon}_y(t)}{\\upsilon(t)^2}\n",
    "$$\n",
    "\n",
    "Заметим, что в рассматриваемом случае\n",
    "$$\n",
    "\\dot{\\upsilon_x}(t) = - \\omega_x^2 x(t), \\quad \\dot{\\upsilon_y}(t) = - \\omega_y^2 y(t)\n",
    "$$\n",
    "\n",
    "Окончательно для угловой скорости получаем\n",
    "$$\n",
    "\\omega(t) = \\frac{-\\omega_x^2 x(t) \\upsilon_y(t) + \\omega_y^2 y(t) \\upsilon_x(t)}{\\upsilon(t)^2}\n",
    "$$\n",
    "\n",
    "Можно проверить, что если точка движется по окружности, т.е. уравнение движения выглядит как то так: $x(t) = r\\cos(\\omega t)$, $y(t) = r\\sin(\\omega t)$, то подстановка в выражение выше дает $\\omega(t) = \\omega$."
   ]
  },
  {
   "cell_type": "markdown",
   "metadata": {},
   "source": [
    "### Создание gt-данных<sup>[toc](#_toc)</sup>\n",
    "\n",
    "__Примечание__: gt &mdash; это сокращение от ground truth\n"
   ]
  },
  {
   "cell_type": "code",
   "execution_count": null,
   "metadata": {},
   "outputs": [],
   "source": [
    "gt_X = amplitude_x * np.cos(omega_x * times + phase_x)\n",
    "gt_Y = amplitude_y * np.cos(omega_y * times + phase_y)\n",
    "gt_VX = -omega_x * amplitude_x * np.sin(omega_x * times + phase_x)\n",
    "gt_VY = -omega_y * amplitude_y * np.sin(omega_y * times + phase_y)\n",
    "gt_V = np.sqrt(gt_VX**2 + gt_VY**2)\n",
    "gt_Omega = (-omega_x**2 * gt_X * gt_VY + omega_y**2 * gt_Y * gt_VX) / gt_V"
   ]
  },
  {
   "cell_type": "markdown",
   "metadata": {},
   "source": [
    "#### Посмотрим на то, как выглядят gt-данные<sup>[toc](#_toc)</sup>"
   ]
  },
  {
   "cell_type": "code",
   "execution_count": null,
   "metadata": {},
   "outputs": [],
   "source": [
    "plt.plot(gt_X, gt_Y, label='gt r(t)', marker='o', color='b')\n",
    "plt.grid(which='both')\n",
    "plt.xlabel('x')\n",
    "plt.ylabel('y')\n",
    "plt.legend();"
   ]
  },
  {
   "cell_type": "code",
   "execution_count": null,
   "metadata": {},
   "outputs": [],
   "source": [
    "plt.plot(times, gt_V, label='gt v(t)', marker='o', color='b')\n",
    "plt.grid(which='both')\n",
    "plt.xlabel('t')\n",
    "plt.ylabel('v')\n",
    "plt.legend();"
   ]
  },
  {
   "cell_type": "code",
   "execution_count": null,
   "metadata": {},
   "outputs": [],
   "source": [
    "plt.plot(times, gt_Omega, label='gt omega(t)', marker='o', color='b')\n",
    "plt.grid(which='both')\n",
    "plt.xlabel('t')\n",
    "plt.ylabel('omega')\n",
    "plt.legend()"
   ]
  },
  {
   "cell_type": "markdown",
   "metadata": {},
   "source": [
    "### Создание зашумленных данных<sup>[toc](#_toc)</sup>\n",
    "\n",
    "В реальном мире данные, которые мы наблюдаем, зашумлены, поэтому промоделируем наблюадемые данные, добавив к gt-данным шумы. Можно считать, что мы наблюадем показания с трех сенсоров:\n",
    "* GPS &mdash; дает наблюдения $\\hat{x}$ и $\\hat{y}$ положения точки в пространстве\n",
    "* CAN &mdash; дает наблюдения линейной скорости $\\hat{\\upsilon}$\n",
    "* IMU &mdash; дает наблюдения угловой скорости $\\hat{\\omega}$"
   ]
  },
  {
   "cell_type": "code",
   "execution_count": null,
   "metadata": {},
   "outputs": [],
   "source": [
    "gt_xy_noise_std = 1.  # GPS noise\n",
    "gt_v_noise_std = 0.2  # CAN noise\n",
    "gt_omega_noise_std = 0.2  # IMU noise\n",
    "\n",
    "random_seed = 637577"
   ]
  },
  {
   "cell_type": "code",
   "execution_count": null,
   "metadata": {},
   "outputs": [],
   "source": [
    "random_state = np.random.RandomState(random_seed)\n",
    "obs_X = gt_X + random_state.normal(loc=0., scale=gt_xy_noise_std, size=gt_X.shape)\n",
    "obs_Y = gt_Y + random_state.normal(loc=0., scale=gt_xy_noise_std, size=gt_Y.shape)\n",
    "obs_V = gt_V + random_state.normal(loc=0., scale=gt_v_noise_std, size=gt_V.shape)\n",
    "obs_Omega = gt_Omega + random_state.normal(loc=0., scale=gt_omega_noise_std, size=gt_Omega.shape)"
   ]
  },
  {
   "cell_type": "code",
   "execution_count": null,
   "metadata": {},
   "outputs": [],
   "source": [
    "plt.plot(gt_X, gt_Y, label='gt r(t)', marker='o', color='b')\n",
    "plt.plot(obs_X, obs_Y, label='obs r(t)', marker='x', color='r')\n",
    "plt.grid(which='both')\n",
    "plt.xlabel('x')\n",
    "plt.ylabel('y')\n",
    "plt.legend();"
   ]
  },
  {
   "cell_type": "code",
   "execution_count": null,
   "metadata": {},
   "outputs": [],
   "source": [
    "plt.plot(times, gt_V, label='gt v(t)', marker='o', color='b')\n",
    "plt.plot(times, obs_V, label='obs v(t)', marker='x', color='r')\n",
    "plt.grid(which='both')\n",
    "plt.xlabel('t')\n",
    "plt.ylabel('v')\n",
    "plt.legend();"
   ]
  },
  {
   "cell_type": "code",
   "execution_count": null,
   "metadata": {},
   "outputs": [],
   "source": [
    "plt.plot(times, gt_Omega, label='gt omega(t)', marker='o', color='b')\n",
    "plt.plot(times, obs_Omega, label='obs omega(t)', marker='x', color='r')\n",
    "plt.grid(which='both')\n",
    "plt.xlabel('t')\n",
    "plt.ylabel('omega')\n",
    "plt.legend()"
   ]
  },
  {
   "cell_type": "markdown",
   "metadata": {},
   "source": [
    "<a name='task'></a>\n",
    "## Задание<sup>[toc](#_toc)</sup>\n",
    "\n",
    "Задача состоит в том, чтобы по зашумленным данным восстановить исходную **траекторию процесса**. \n",
    "\n",
    "> <span style='color:red'>Внимание.</span> Тут стоит подчеркнуть различие между понятиями &laquo;**траектории точки**&raquo; и &laquo;**траектории процесса**&raquo;. **Траектория точки** &mdash; это зависимость её координат от времени, т.е. в $\\boldr(t)$. В то же время **траектория процесса** &mdash; это более широкое понятие, которое может включать в себя различные зависимости свойств системы от времени, т.е. наряду с $\\boldr(t)$ траектория процесса вполне может включать в себя также зависимости $\\upsilon(t)$, $\\gamma(t)$ и т.п. Тут всё определяется конкретной постановкой задачи &mdash; по сути в траекторию процесса входят все те параметры, которые мы, как пользователи, хотим восстановить.\n",
    "\n",
    "Для решения данной задачи предлагается использовать фильтра Калмана. При этом можно поэкспериментировать, последовательно добавляя данные в процесс восстановления, т.е. сначала восстановить траекторию только с исопльзованием наблюаемых показаний координат $\\hat{x}$, $\\hat{y}$. Затем добавить к процессу восстановления наблюдаемые скорости $\\hat{\\upsilon}$. Ну и в завершение добавить использование наблюдений угловых скоростей $\\hat{\\omega}$. В общем, если интересно, то можно посмотреть на то, как меняется качество восстановленной траектории с добавлением новых данных."
   ]
  },
  {
   "cell_type": "markdown",
   "metadata": {},
   "source": [
    "<a name='kalman_filtration'></a>\n",
    "# Калмановская фильтрация<sup>[toc](#_toc)</sup>"
   ]
  },
  {
   "cell_type": "markdown",
   "metadata": {},
   "source": [
    "<a name='kalman_state'></a>\n",
    "## Калмановское состояние системы<sup>[toc](#_toc)</sup>\n",
    "\n",
    "Предлагается использовать следующее состояние системы:\n",
    "$$\n",
    "\\boldx(t) = \\begin{pmatrix}\n",
    "x\\\\\n",
    "y\\\\\n",
    "\\gamma\\\\\n",
    "v\\\\\n",
    "\\omega\\\\\n",
    "\\end{pmatrix},\n",
    "$$\n",
    "где \n",
    "* $x$ &mdash; координата точки по оси $X$\n",
    "* $y$ &mdash; координата точки по оси $Y$\n",
    "* $\\gamma$ &mdash; угол рыскания; далее просто yaw\n",
    "* $\\upsilon$ &mdash; линейнаяа скорость\n",
    "* $\\omega$ &mdash; угловая скорость материальной точки\n",
    "\n",
    "В семинарском ноутбуке в [есть описание данной системы](./seminar1_localization.ipynb#2d_with_yaw_model) с моделью эволюции и моделью наблюдений.\n",
    "\n",
    "> <span style='color:red'>Внимание.</span> Модель эволюции, т.е. переход от момента времени $t$ к моменту $t + dt$ ничего не должен знать об истинной траектории системы, т.е. прогноз на состояние $\\boldx(t + dt)$ делается только на основе знания состояния $\\boldx(t)$ (точнее его распределения) на момент времени $t$."
   ]
  },
  {
   "cell_type": "markdown",
   "metadata": {},
   "source": [
    "<a name='kalman_transit_and_process'></a>\n",
    "## Transit & process<sup>[toc](#_toc)</sup>"
   ]
  },
  {
   "cell_type": "markdown",
   "metadata": {},
   "source": [
    "Для восстановления траектории нужно выполнить следующую последовательность шагов:\n",
    "1. Проинициализировать состояние системы в момент времени 0. Тут есть простор для экспериментов:\n",
    "    * Можно проинициализировать истинными значениями, при этом задав диагнональную матрицу ковариаций с относительно малымми значениями дисперсии. В этом случае мы ожидаем, что восстановленная траектория с самого начала пойдет рядом с gt-траекторией.\n",
    "    * Можно проинициализировать нулевыми значениями, пир этом задав диагональную матрицу ковариаций с большими значениями дисперсии. Так мы моделируем полное незнание нами начального состояния. В таком случае мы ожидаем, что восстановленная траектория некоторое время будет приблжиаться к gt-траектории, а затем она пойдет рядом с ней. \n",
    "2. Далее обрабатываем первую пачку наблюдений в момент времени 0, и делаем прогноз на момент времени 1, ну и так далее. Однако пару моментов стоит обсудить детальнее:\n",
    "    * **Transit**. Период наблюдений у нас составляет 1 секунду, т.е. всякий раз, обработав наблюдения в некоторый момент времени $t$, нам нужно перейти в момент времени $t + 1$. Фактически переход &mdash; это интегрирование вида:\n",
    "         $$\n",
    "         \\boldx(t + T) = \\boldx(t) + \\int\\limits_{t}^{t + T} \\dot{\\boldx}(t) dt.\n",
    "         $$\n",
    "      Такое интегрироване мы осуществляем по сути численно, используя некоторый шаг $\\Delta t$. Если $\\Delta t = T$, то в первом приближении получаем нечто такое:\n",
    "         $$\n",
    "         \\boldx(t + T) \\approx \\boldx(t) + \\dot{\\boldx}(t) T\n",
    "         $$\n",
    "      т.е. делаем обычной линейный переход вдоль производной состояния. Но в нашем случае это приводит к тому, что между отрезками $t$ и $t + T$ мы будто бы двигаемся прямолинейно, так как по формуле выше\n",
    "         \\begin{align}\n",
    "         x(t + T) = x(t) + \\upsilon(t) T\\\\\n",
    "         y(t + T) = y(t) + \\upsilon(t) T\n",
    "         \\end{align}\n",
    "      А у нас, между прочим, есть ещё и угловая скорость $\\omega(t)$, которая постоянно поворачивает вектор направления движения. В результате приходим к тому, что такое грубое приближение может быть чревато значительным понижением точности (если интересно, то после написания кода можете провести сравнительный эксперимент, просто поставив ниже параметр `dt = observation_period`).\n",
    "      \n",
    "      Самый простой способ тут состоит в том, что переходить от момента времени $t$ к моменту $t + T$ небольшими последовательными шагами `dt`. Ниже по умолчанию поставлено `dt = 0.01`, т.е. делаем 100 переходов от момента $t$ к моменту $t + 1$.\n",
    "    * **Process**. Все наблюдения у нас приходят пачками в одни и те же моменты времени, при этом может возникнуть вопрос, а важен ли порядок обработки. Ответ таков, что если все написано правильно, то не важен, так как процесс обработки показаний &mdash; это рассчет условной вероятности, а она не зависит от того, в какой последовательности применяется условность. Более того, можно объединить показания в единый вектор наблюдения с единой матрицей наблюдения, и тогда в каждый момент времени мы будем обрабатывать одно композитное показание с тем же результатом на выходе. В реальных системах так тоже иногда делается, но задача там осложняется тем, что показания сенсоров не синхронизированы и прилетают с разными периодами и задержками."
   ]
  },
  {
   "cell_type": "markdown",
   "metadata": {},
   "source": [
    "### Основные функции EKF<sup>[toc](#_toc)</sup>\n",
    "\n",
    "В фильтре Калмана два основных действия:\n",
    "* `transit` &mdash; переход от одного момента времени к следующему\n",
    "* `process` &mdash; обработка показания\n",
    "\n",
    "\n",
    "Данные функции уже реализованы, поэтому просто импортируем их. Но если есть желание, то можете написать свои - тут как удобно."
   ]
  },
  {
   "cell_type": "code",
   "execution_count": null,
   "metadata": {},
   "outputs": [],
   "source": [
    "from sdc.kalman_filter import (\n",
    "    kalman_transit_covariance,\n",
    "    kalman_process_observation,\n",
    ")\n",
    "\n",
    "help(kalman_transit_covariance)\n",
    "help(kalman_process_observation)"
   ]
  },
  {
   "cell_type": "markdown",
   "metadata": {},
   "source": [
    "<a name='kalman_filtration_running'></a>\n",
    "## Запуск фильтрации<sup>[toc](#_toc)</sup>"
   ]
  },
  {
   "cell_type": "markdown",
   "metadata": {},
   "source": [
    "### Параметры<sup>[toc](#_toc)</sup>"
   ]
  },
  {
   "cell_type": "code",
   "execution_count": null,
   "metadata": {},
   "outputs": [],
   "source": [
    "# TODO: Тут требуется поставить какие-нибудь значения шумов. После того, как будет проведен первый успешный\n",
    "# запуск фильтрации, можно поэкспериментировать с высставлением значений, чтобы улучшить восстановленную траекторию\n",
    "kalman_xy_real_noise_std = None\n",
    "kalman_v_real_noise_std = None\n",
    "kalman_omega_real_noise_std = None\n",
    "\n",
    "dt = 0.01  # Transition time step"
   ]
  },
  {
   "cell_type": "markdown",
   "metadata": {},
   "source": [
    "### Начальное состояние системы<sup>[toc](#_toc)</sup>"
   ]
  },
  {
   "cell_type": "code",
   "execution_count": null,
   "metadata": {},
   "outputs": [],
   "source": [
    "# TODO: Инициализировать каким-нибудь образом начальное состояние системы\n",
    "kalman_initial_state_mean = None\n",
    "kalman_initial_state_cov = None"
   ]
  },
  {
   "cell_type": "markdown",
   "metadata": {},
   "source": [
    "### Фильтрация<sup>[toc](#_toc)</sup>"
   ]
  },
  {
   "cell_type": "code",
   "execution_count": null,
   "metadata": {},
   "outputs": [],
   "source": [
    "# Реализовать калмановскую фильтрацию. На выходе должен быть заполненный список kalman_states_history\n",
    "\n",
    "# List of (mean, cov) tuples\n",
    "kalman_states_history: T.List[T.Tuple[np.ndarray, np.ndarray]] = None\n",
    "    \n",
    "# TODO: Написать код по фильтрации"
   ]
  },
  {
   "cell_type": "markdown",
   "metadata": {},
   "source": [
    "### Извлекаем восстановленые значения параметров<sup>[toc](#_toc)</sup>"
   ]
  },
  {
   "cell_type": "code",
   "execution_count": null,
   "metadata": {},
   "outputs": [],
   "source": [
    "# После восстановления нужно инициализировать массивы ниже из kalman_states_history\n",
    "kalman_X = obs_X\n",
    "kalman_Y = obs_Y\n",
    "kalman_V = obs_V\n",
    "kalman_Omega = obs_Omega"
   ]
  },
  {
   "cell_type": "markdown",
   "metadata": {},
   "source": [
    "<a name='visualization'></a>\n",
    "# Визуализация результатов<sup>[toc](#_toc)</sup>"
   ]
  },
  {
   "cell_type": "code",
   "execution_count": null,
   "metadata": {},
   "outputs": [],
   "source": [
    "plt.plot(gt_X, gt_Y, label='gt r(t)', marker='o', color='b')\n",
    "plt.plot(obs_X, obs_Y, label='obs r(t)', marker='x', color='r')\n",
    "plt.plot(kalman_X, kalman_Y, label='kalman r(t)', marker='*', color='g')\n",
    "plt.grid(which='both')\n",
    "plt.xlabel('x')\n",
    "plt.ylabel('y')\n",
    "plt.legend();"
   ]
  },
  {
   "cell_type": "code",
   "execution_count": null,
   "metadata": {},
   "outputs": [],
   "source": [
    "plt.plot(times, gt_V, label='gt v(t)', marker='o', color='b')\n",
    "plt.plot(times, obs_V, label='obs v(t)', marker='x', color='r')\n",
    "plt.plot(times, kalman_V, label='kalman v(t)', marker='*', color='g')\n",
    "plt.grid(which='both')\n",
    "plt.xlabel('t')\n",
    "plt.ylabel('v')\n",
    "plt.legend();"
   ]
  },
  {
   "cell_type": "code",
   "execution_count": null,
   "metadata": {},
   "outputs": [],
   "source": [
    "plt.plot(times, gt_Omega, label='gt omega(t)', marker='o', color='b')\n",
    "plt.plot(times, obs_Omega, label='obs omega(t)', marker='x', color='r')\n",
    "plt.plot(times, kalman_Omega, label='kalman omega(t)', marker='x', color='g')\n",
    "plt.grid(which='both')\n",
    "plt.xlabel('t')\n",
    "plt.ylabel('omega')\n",
    "plt.legend()"
   ]
  },
  {
   "cell_type": "markdown",
   "metadata": {},
   "source": [
    "<a name='mse'></a>\n",
    "# MSE<sup>[toc](#_toc)<sup>\n",
    "    \n",
    "Тут требуется подсчитать MSE между gt-траекторией точки в пространстве, и восстановленной траекторией. Попробуйте подобрать такие параметры шума перехода и наблюдений, чтобы минимизировать MSE"
   ]
  },
  {
   "cell_type": "code",
   "execution_count": null,
   "metadata": {},
   "outputs": [],
   "source": []
  }
 ],
 "metadata": {
  "kernelspec": {
   "display_name": "Python 3",
   "language": "python",
   "name": "python3"
  },
  "language_info": {
   "codemirror_mode": {
    "name": "ipython",
    "version": 3
   },
   "file_extension": ".py",
   "mimetype": "text/x-python",
   "name": "python",
   "nbconvert_exporter": "python",
   "pygments_lexer": "ipython3",
   "version": "3.8.10"
  }
 },
 "nbformat": 4,
 "nbformat_minor": 4
}
