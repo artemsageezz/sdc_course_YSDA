{
 "cells": [
  {
   "cell_type": "markdown",
   "id": "ce418dea-c21f-4194-9323-617b1bf95005",
   "metadata": {},
   "source": [
    "$$\n",
    "\\newcommand{\\bolde}{\\boldsymbol{e}}\n",
    "\\newcommand{\\boldh}{\\boldsymbol{h}}\n",
    "\\newcommand{\\boldp}{\\boldsymbol{p}}\n",
    "\\newcommand{\\boldr}{\\boldsymbol{r}}\n",
    "\\newcommand{\\boldt}{\\boldsymbol{t}}\n",
    "\\newcommand{\\boldq}{\\boldsymbol{q}}\n",
    "\\newcommand{\\boldM}{\\boldsymbol{M}}\n",
    "\\newcommand{\\boldP}{\\boldsymbol{P}}\n",
    "\\newcommand{\\boldR}{\\boldsymbol{R}}\n",
    "\\newcommand{\\boldT}{\\boldsymbol{T}}\n",
    "\\newcommand{\\boldQ}{\\boldsymbol{Q}}\n",
    "$$\n",
    "\n",
    "<a name='hw_lidar_odometry'></a>\n",
    "# Домашняя работа. Лидарная одометрия<sup>[toc](#_toc)</sup>"
   ]
  },
  {
   "cell_type": "markdown",
   "id": "aa01abe7-a828-4ce4-871c-6cda785d8c86",
   "metadata": {},
   "source": [
    "<a name='_toc'></a>\n",
    "# Содержание<sup>[toc](#_toc)</sup>\n",
    "1. [Задание](#task)\n",
    "2. [Варианты лидарной одометрии](#lo_versions)\n",
    "    * [Лидарная одометрия v1.0](#lo_v1)\n",
    "    * [Лидарная одометрия v2.0](#lo_v2)\n",
    "    * [Лидарная одометрия v3.0](#lo_v3)\n",
    "    * [Лидарная одометрия v4.0](#lo_v4)\n",
    "3. [KITTI](#kitti)\n",
    "4. [Реализация лидарной одометрии](#lo_impl)\n",
    "    * [Подготовительные действия](#lo_impl_prep)\n",
    "    * [Основная работа](#lo_impl_main)\n",
    "    * [Визуализация результатов](#lo_vis)"
   ]
  },
  {
   "cell_type": "markdown",
   "id": "637c4879-caa7-4eaf-bae1-9415e02e4d87",
   "metadata": {},
   "source": [
    "<a name='task'></a>\n",
    "# Задание<sup>[toc](#_toc)</sup>\n",
    "\n",
    "**Лидарная одометрия** &mdash; это способ оценки перемещения лидара (машины), при котором очередное снятое лидарное облако сопоставляется с предыдущим, чтобы найти относительное перемещение лидара в пространстве. Если говорить более точно, то мы оцениваем, насколько лидар сместился относительно своего предыдущего положения, и через последовательность относительных перемещений лидара восстанавливаем его траекторию в пространстве.\n",
    "\n",
    "В данной домашней работе предлагается реализовать лидарную одометрию на данных из датасета KITTI. С её помощью требуется определить траекторию движения центрального лидара в пространстве, а также восстановить лидарную карту местности, смержив все лидарные облака воедино."
   ]
  },
  {
   "cell_type": "markdown",
   "id": "a0c19456-22de-48c0-8134-3cc8a86a5524",
   "metadata": {},
   "source": [
    "<a name='lo_versions'></a>\n",
    "# Варианты лидарной одометрии<sup>[toc](#_toc)</sup>"
   ]
  },
  {
   "cell_type": "markdown",
   "id": "0533dadd-aef0-42a1-983f-23854e19e458",
   "metadata": {},
   "source": [
    "<a name='lo_v1'></a>\n",
    "## Лидарная одометрия (v1.0)<sup>[toc](#_toc)</sup>\n",
    "\n",
    "Пусть к нам пришло очередное лидарное облако $\\boldQ = [\\boldq_1, \\dots, \\boldq_{M}]$. Предыдущее лидарное облако обозначим как $\\boldP = [\\boldp_1, \\dots, \\boldp_N]$. Требуется найти перемещение $\\boldT$ лидара в пространстве относительно его предыдущей позы. Если говорить неформально, то это такой трансформ, который делает облако $\\boldQ$ &laquo;похожим&raquo; на $\\boldP$:\n",
    "$$\n",
    "\\boldT \\otimes \\boldQ \\approx \\boldP.\n",
    "$$\n",
    "Эту задачу решает алгоритм ICP, описанный на лекции. Хорошее описание этого алгоритма также можно найти в документации `opend3d` https://www.open3d.org/docs/release/tutorial/pipelines/icp_registration.html. \n",
    "\n",
    "В результате из последовательности лидарных облаков $\\boldP_0$, $\\boldP_1$, $\\dots$, $\\boldP_t$ получаем последовательность относительных перемещений лидара $\\boldT_{1 \\to 0}$, $\\boldT_{2 \\to 1}$, $\\dots$, $\\boldT_{i \\to (i - 1)}$, $\\dots$, $\\boldT_{t \\to (t - 1)}$. Обозначим через $\\boldT_{0 \\to \\mathrm{world}}$ позу лидара в начальный момент времени относительно интересующей нас системы координат под названием $\\mathrm{world}$. Это может быть, например, система координат в референсной точке проекции Меркатора. Ну или же вообще единичный трансформ, тогда мы по сути будем оценивать всю траекторию относительно начального положения лидара. В любом случае теперь мы можем оценить позу центрального лидара в момент времени $t$ относительно интересующей нас системы координат $\\mathrm{world}$ следующим образом:\n",
    "$$\n",
    "\\boldT_{t \\to \\mathrm{world}} = \\boldT_{t \\to (t - 1)} \\otimes \\boldT_{(t - 1) \\to \\mathrm{world}}.\n",
    "$$\n",
    "Рекуррентно раскрывая $\\boldT_{(t - 1) \\to \\mathrm{world}}$, получаем\n",
    "$$\n",
    "\\boldT_{t \\to \\mathrm{world}} = \\boldT_{t \\to (t - 1)} \\otimes \\dots \\otimes \\boldT_{i \\to (i - 1)} \\otimes \\dots  \\otimes \\boldT_{1 \\to 0} \\otimes \\boldT_{0 \\to \\mathrm{world}}.\n",
    "$$\n",
    "\n",
    "Также мы можем взять все найденные положения лидара в пространстве $\\{\\boldT_{i \\to \\mathrm{world}}\\}_{i=0}^t$ и смержить все облака в единое облако карты $\\boldM_t$:\n",
    "$$\n",
    "\\boldM_t = \\sum\\limits_{i=0}^t \\boldT_{i \\to \\mathrm{world}} \\boldP_t\n",
    "$$\n",
    "\n",
    "> <span style=\"color:blue\">**Замечание.**</span> При слиянии облаков стоит разряжать карту, например, с помощью вокселизации, чтобы не было роста объема карты в ситуации, когда машина просто стоит."
   ]
  },
  {
   "cell_type": "markdown",
   "id": "fe860fc1-5a7b-4a88-b03f-0870b6b9450d",
   "metadata": {},
   "source": [
    "<a name='lo_v2'></a>\n",
    "## Лидарная одометрия (v2.0)<sup>[toc](#_toc)</sup>\n",
    "\n",
    "У описанного выше алгоритма на практике проявляется основной недостаток &mdash; его низкая точность. Причин этому множество. Например, те же пустые пространства между колец в лидарном облаке, из-за которых при движении лидара значительная часть точек нового очередного облака может просто не попадать в окрестность точек предыдущего облака.\n",
    "\n",
    "\n",
    "Поэтому рассмотрим небольшое расширение простейшей лидарной одометрии, в которой в каждый момент времени будем поддерживать кэш из $T$ предыдущих облаков, смерженных в карту. При поступлении очередного лидарного облака будем матчить его не к предыдущему, а именно к этой __on-the-fly-карте__. Затем добавляем новое облако в кэш, и попутно удаляем самое старое облако.\n",
    "\n",
    "Пусть в момент времени $t$ к нам пришло облако $\\boldP_t$, и мы каким-то обазом нашли его положение $\\boldT_{t \\to \\mathrm{world}}$. Тогда в после матчинга обновляем on-the-fly-карту:\n",
    "$$\n",
    "\\boldM_{[t - T + 1, t]} = \\sum\\limits_{i = t - T + 1}^{t} \\boldT_{i \\to \\mathrm{world}} \\otimes \\boldP_t.\n",
    "$$\n",
    "Затем в момент времени $t + 1$ поступает облако $\\boldP_{t + 1}$. Матчим его к облаку $\\boldM_{[t - T + 1, t]}$, и находим трансформ $\\boldT_{(t + 1) \\to \\mathrm{world}}$. Теперь добавляем облако $\\boldP_{t+1}$ в карту и попутно удаляем облако $\\boldP_{t - T + 1}$.\n",
    "\n",
    "\n",
    "Фактически данный алгоритм действий эквивалентен простейшей лидарной одометрии в случае $T = 1$, т.е. когда в кэше всего одно облако."
   ]
  },
  {
   "cell_type": "markdown",
   "id": "52c78021-80b7-4619-ac13-59ee82a916a4",
   "metadata": {},
   "source": [
    "<a name='lo_v3'></a>\n",
    "## Лидарная одометрия (v3.0)<sup>[toc](#_toc)</sup>\n",
    "\n",
    "Предыдущий алгоритм версии v2 страдает в ситации, когда машина долгое время стоит на месте, ведь в таком случае фактичеси мы придем к тому, что весь кэш будет представелен одним облаком. Затем, когда машина начнёт движение, мы вновь столкнёмся с проблемой пустых пространств между кольцами. С этим над что-то делать.\n",
    "\n",
    "Довольно простое и логичное решение состоит в том, чтобы заменять облака в кэше не безусловно по мере их поступления, а когда, например, мы переместились относительно предыдущей позы (или любой из поз в кэше) на расстояние, превышающее пороговое значение $d$. \n",
    "\n",
    "**Собственно именно эту версию лидарной одометрии и предлагается реализовать**. \n",
    "\n",
    "Теперь немного о деталях реализиации:\n",
    "1. Значение кэша $T$ и порога $d$ должно быть легко задать, чтобы перепрогнать одометрию. При $T = 1$ и $d = 0$ алгоритм должен превращаться простейшую лидарную одомерии версии v1.0.\n",
    "2. При матчинге использует `point-to-plane ICP registration`. Тут всё придумано за нас, и самый простой способ &mdash; это взять примеры попарного матчинга облаков из [документации `open3d`](https://www.open3d.org/docs/release/tutorial/pipelines/icp_registration.html). Однако для этого нам нужны нормале в __target-облаке__, т.е. в облаке $\\boldM_{[t - T + 1, t]}$.\n",
    "3. Нормали также оцениваем с помощью `open3d`. Перед этим не забываем downsample-ить облака при слиянии &mdash; нам нет смысла в 100 точках в окрестности 5 см. Размер вокселя можно поставить оn 5 до 12.5 см. Радиус рассчета нормалей обычно выбирают в диапазоне 30 см до 50 см.\n",
    "4. В итоге вокселизируем, считаем нормали, и получаем облако карты, подготовленное к регистрации нового облака лидара.\n",
    "5. Находим положение нового облака относительно карты, обновляем кэш, пересчитываем карту, ждём следующего облака.\n",
    "\n",
    "**Что должно быть на выходе?** \n",
    "1. Должна быт ьвозможность задать параметр $T$ и $d$ и перепрогнать алгоритм одометрии\n",
    "2. Алгоритм одометрии должен сохранять найденный позы лидаров на диск. Например, можно сделать как-то так:\n",
    "    ```\n",
    "    hw/\n",
    "      poses_T010_d100.txt  # < Размер кэша 10, d = 100см\n",
    "      poses_T001_d000.txt  # < Размер кэша 1, d = 0см\n",
    "    ```\n",
    "3.  Должна быть ячейка кода, в которой можно указать значения параметров $T$ и $d$. Затем она подгрузит позы из файла (если он есть для таких значений) и смержит все облака согласно этим позам в единое облако. При слиянии карту следует вокселизировать с параметром `voxel_size` от 5см до 12.5см\n",
    "4.  Затем должна быть ячейка визуализации. Тут также должен быть параметр вокселизации, но уже именно для того, чтобы визуализация не тормозила. Тут `voxel_size` может быть порядка 50см.\n",
    "\n",
    "Проще говоря, должна быть возможность посмотреть на то, что получилось, и при необходимости перепрогнать"
   ]
  },
  {
   "cell_type": "markdown",
   "id": "eadfee44-9316-421a-83bd-e1402741ce52",
   "metadata": {},
   "source": [
    "<a name='lo_v4'></a>\n",
    "## Лидарная одометрия (v4.0)<sup>[toc](#_toc)</sup>\n",
    "\n",
    "На самом деле можно реализовать лидарную одометрию с фактически неограниченным размером кэша $T = \\infty$, т.е. когда мы вообще не удаляем отобранные облака из текущей карты, либо добавляем в неё все облака (проводя через downsampling). На практике основная проблема здесь &mdash; неограниченный рост карты. Если же говорить про наши реалиии в контексте датасета, то сложность матчинга и обновления такого облака будет расти со временем. Но все проблемы решаемы:\n",
    "1. От неограниченного роста карты спасает умный dump кусков карты на диск, и загрузка с диска, когда потребуется (это если говорить про реалии робота).\n",
    "2. Также можно реализовать хитрое обновление карты, сложность которого будет зависеть только от размера нового лидарного облака, но не от размера текущей карты.\n",
    "\n",
    "Если скомбинировать оба подхода, то он окзаывается вполне приемлемым для того, чтобы робот во время проезда восстанаваливал карту местности, попутно локализуя себя в ней. Подобные алгоритмы называются _SLAM (Simultaneous Localization and Mapping)_."
   ]
  },
  {
   "cell_type": "code",
   "execution_count": null,
   "id": "42f0f1d2-249a-4413-8cb6-7202596d0ea9",
   "metadata": {},
   "outputs": [],
   "source": [
    "import typing as T\n",
    "import os\n",
    "import numbers\n",
    "import numpy as np\n",
    "import matplotlib.pyplot as plt\n",
    "%matplotlib inline\n",
    "\n",
    "import pykitti\n",
    "import open3d\n",
    "import plotly.offline as py\n",
    "py.init_notebook_mode(connected=True)\n",
    "\n",
    "# PCL\n",
    "from pylib.pcl.common.cloud_io import read_point_cloud_o3d, read_point_cloud_xyz\n",
    "from pylib.pcl.common.transform_point_cloud import transform_point_cloud_xyz\n",
    "from pylib.pcl.common.convert_point_cloud import convert_point_cloud_o3d_to_xyz\n",
    "from pylib.pcl.filters.voxel_grid import apply_voxel_grid\n",
    "from pylib.pcl.filters.radius_outlier_removal import apply_radius_outlier_removal\n",
    "from pylib.pcl.tools.plotly_visualization import (\n",
    "    create_plotly_figure,\n",
    "    plot_cloud,\n",
    "    apply_min_max_scaling,\n",
    "    convert_values_to_rgba_tuples_f64,\n",
    ")\n",
    "\n",
    "# TRANSFORMS\n",
    "from pylib.transforms.convert_transform import (\n",
    "    verify_transform_matrix,\n",
    "    convert_rotation_matrix_to_quaternion,\n",
    "    convert_quaternion_to_rotation_matrix,\n",
    ")\n",
    "\n",
    "# GEO\n",
    "from pylib.geo.geo_lla_xyz_converter import GeoLlaXyzConverter\n",
    "from pylib.geo.geo_position_lla import GeoPositionLLA\n",
    "from pylib.geo.geo_position_xyz import GeoPositionXYZ\n",
    "\n",
    "# KITTI\n",
    "from pylib.kitti.dataset_adaptor import KittiDatasetAdaptor\n",
    "from pylib.kitti.localization import (\n",
    "    Localization,\n",
    "    build_localization,\n",
    "    build_localizations,\n",
    ")\n",
    "from pylib.kitti.convert_localization import (\n",
    "    convert_localization_to_transform_matrix,\n",
    "    convert_localizations_to_transform_matrices,\n",
    ")"
   ]
  },
  {
   "cell_type": "markdown",
   "id": "22e336ca-9361-4ed0-aa66-6eda590840a5",
   "metadata": {},
   "source": [
    "<a name='kitti'></a>\n",
    "# KITTI<sup>[toc](#_toc)</sup>"
   ]
  },
  {
   "cell_type": "markdown",
   "id": "375d3a16-fccd-429c-b792-b889c4502c59",
   "metadata": {},
   "source": [
    "## Загружаем датасет сцены<sup>[toc](#_toc)</sup>"
   ]
  },
  {
   "cell_type": "markdown",
   "id": "688c81d2-0da3-45c0-b493-95a5e9881846",
   "metadata": {},
   "source": [
    "### Подключаемся к данным на диске (в датасете)<sup>[toc](#_toc)</sup>"
   ]
  },
  {
   "cell_type": "code",
   "execution_count": null,
   "id": "517f0e07-38d5-459c-bc5d-48201f3c11f7",
   "metadata": {},
   "outputs": [],
   "source": [
    "KITTI_DIR_PATH = os.path.abspath('./datasets/KITTI/')\n",
    "\n",
    "# Указываем датасет для загрузки\n",
    "RIDE_DATE = '2011_09_26'\n",
    "DRIVE = '0106'  # Вот тут теперь загружаем\n",
    "\n",
    "# Загружаем данные. Опционально можно указать диапазон фреймов для загрузки\n",
    "KITTI_DATASET = pykitti.raw(base_path=KITTI_DIR_PATH, date=RIDE_DATE, drive=DRIVE)\n",
    "\n",
    "# Сразу же создаем адаптор\n",
    "KITTI_DATASET_ADAPTOR = KittiDatasetAdaptor(KITTI_DATASET)\n",
    "NUM_FRAMES = KITTI_DATASET_ADAPTOR.num_lidar_clouds\n",
    "\n",
    "print('Dataset info:')\n",
    "print(f'\\tdirectory: <{KITTI_DIR_PATH}>')\n",
    "print(f'\\tnum_velodyne_clouds: {NUM_FRAMES}')"
   ]
  },
  {
   "cell_type": "markdown",
   "id": "967baa68-066c-419e-bc80-c436697658b3",
   "metadata": {},
   "source": [
    "### Локализация и позы<sup>[toc](#_toc)</sup>"
   ]
  },
  {
   "cell_type": "markdown",
   "id": "28d572ec-5060-4f4d-ac14-7ee0def034e6",
   "metadata": {},
   "source": [
    "#### Формируем показания локализации<sup>[toc](#_toc)</sup>"
   ]
  },
  {
   "cell_type": "code",
   "execution_count": null,
   "id": "96dd7bf9-3042-4297-a778-81f2a92c249b",
   "metadata": {},
   "outputs": [],
   "source": [
    "KITTI_DATASET_ADAPTOR = KittiDatasetAdaptor(KITTI_DATASET)\n",
    "reference_point = KITTI_DATASET_ADAPTOR.read_geo_positions_lla()[0]\n",
    "localizations = KITTI_DATASET_ADAPTOR.build_localizations(reference_point)\n",
    "\n",
    "del reference_point\n",
    "assert len(localizations) == NUM_FRAMES\n",
    "print(f'num_localizations: {len(localizations)}')"
   ]
  },
  {
   "cell_type": "markdown",
   "id": "b013cadb-32fa-447c-9ef1-3c8db086f00c",
   "metadata": {},
   "source": [
    "#### Формируем позы в системе координат меркатора<sup>[toc](#_toc)</sup>"
   ]
  },
  {
   "cell_type": "code",
   "execution_count": null,
   "id": "867dac98-3530-4a03-882b-036477acd683",
   "metadata": {},
   "outputs": [],
   "source": [
    "gps_to_mercator_transforms = convert_localizations_to_transform_matrices(localizations)"
   ]
  },
  {
   "cell_type": "markdown",
   "id": "7fce2d52-2aec-44f3-b43b-c5d316e9b257",
   "metadata": {},
   "source": [
    "### Облака велодайна<sup>[toc](#_toc)</sup>"
   ]
  },
  {
   "cell_type": "markdown",
   "id": "34bd03d7-5284-44fc-a326-a009dd14b378",
   "metadata": {},
   "source": [
    "Чем лучше начальное приближение, тем лучше будет сходимость ICP. У нас есть два простых способа задать начальный трансформ между двумя последовательными лидарными облаками:\n",
    "1. Единичный трансформ. Скорее всего будет не очень хорошим приближением в случае быстрого движения машины.\n",
    "2. На основе показаний локализации, где в качестве начального трансформа можно взять преобразование (трансформ) из source-позы в target-позу.\n",
    "\n",
    "Но довольно слов, давайте просто посмотрим на оба варианта. В ячейке кода ниже мы берем три последовательных облака и отрисовываем их либо как есть, т.е. предполагая единичный трансформ, либо же приводим их в единую систему координат world (относительно которой заданы позы в `poses`). Первый или второй варинат задаются параметром `apply_to_world_transform`.\n",
    "\n",
    "> **Внимание**. Движение машины начинается только где-то с 50-го фрейма. До этого момента она или практически неподвижна. Ниже специально был подобран фрейм 90, чтобы продемонстрировать разницу между начальными приближениями."
   ]
  },
  {
   "cell_type": "code",
   "execution_count": null,
   "id": "e6479aa8-bf85-4e70-a4d8-0498b89c98f2",
   "metadata": {},
   "outputs": [],
   "source": [
    "init_frame_idx = 90\n",
    "\n",
    "# Используем вокселизация для уменьшения размера облака, чтобы отрисовка не тормозила\n",
    "voxel_size = 0.15\n",
    "\n",
    "# Привести к единой системе координат world (на основе показаний GPS-а), или нет?\n",
    "apply_transform_to_world = True\n",
    "\n",
    "clouds_xyz = []\n",
    "for frame_idx in range(init_frame_idx, init_frame_idx + 3):\n",
    "    cloud_xyz = KITTI_DATASET_ADAPTOR.read_lidar_cloud_xyzi(frame_idx)[..., :3]\n",
    "    if apply_transform_to_world:\n",
    "        cloud_xyz = transform_point_cloud_xyz(\n",
    "            cloud_xyz.astype(np.float64),\n",
    "            gps_to_mercator_transforms[frame_idx]).astype(np.float32)\n",
    "    initial_cloud_size = cloud_xyz.shape[0]\n",
    "    cloud_xyz = apply_voxel_grid(cloud_xyz, voxel_size)\n",
    "    final_cloud_size = cloud_xyz.shape[0]\n",
    "    print(f'{frame_idx}: {initial_cloud_size} -> voxel_grid(voxel_size={voxel_size}) -> {final_cloud_size}')\n",
    "    clouds_xyz.append(cloud_xyz)\n",
    "    del cloud_xyz\n",
    "\n",
    "figure = create_plotly_figure(bgcolor='black')\n",
    "plot_cloud(clouds_xyz[0], colors='red', figure=figure)\n",
    "plot_cloud(clouds_xyz[1], colors='green', figure=figure)\n",
    "plot_cloud(clouds_xyz[2], colors='blue', figure=figure)\n",
    "figure.show()\n",
    "\n",
    "del clouds_xyz"
   ]
  },
  {
   "cell_type": "markdown",
   "id": "73dec8f8-81c8-49aa-a58b-90191306ee32",
   "metadata": {},
   "source": [
    "<a name='lo_impl'></a>\n",
    "# Реализация лидарной одометрии<sup>[toc](#_toc)</sup>\n",
    "* [Подготовительные действия](#lo_impl_prep)\n",
    "* [Основная работа](#lo_impl_main)\n",
    "* [Визуализация результатов](#lo_vis)"
   ]
  },
  {
   "cell_type": "markdown",
   "id": "ce7bea3c-ff30-4df3-8f29-cb2a493ef8ee",
   "metadata": {},
   "source": [
    "<a name='lo_impl_prep'></a>\n",
    "## Подготовительные действия<sup>[toc](#_toc)</sup>"
   ]
  },
  {
   "cell_type": "markdown",
   "id": "8237d799-a451-4f10-a91d-e6182915ee60",
   "metadata": {},
   "source": [
    "У нашей лидарной одометрии два основных параметра:\n",
    "* `max_clouds_cache_size` &mdash; максимальное количество облаков в текущем кэше\n",
    "* `min_distance_between_clouds_cm` &mdash; минимальное расстояние нового облака относительно предыдущего, при котором добавляем его в кэш (попутно удаляя самое старое облако из того же кэша). Расстояние указываем в сантиметрах"
   ]
  },
  {
   "cell_type": "code",
   "execution_count": null,
   "id": "d8fa7fd0-a85f-4ec4-963c-2d90b2411fa2",
   "metadata": {},
   "outputs": [],
   "source": [
    "# Два основных параметра, описывающих нашу лидарную одометрию\n",
    "max_clouds_cache_size: int = 10\n",
    "min_distance_between_clouds_cm: int = 100  # In [cm]eters\n",
    "del max_clouds_cache_size, min_distance_between_clouds_cm  # Пока удаляем"
   ]
  },
  {
   "cell_type": "markdown",
   "id": "af022d6d-4f36-471e-b0ec-c473622d6838",
   "metadata": {},
   "source": [
    "Всего облаков у нас 227. Поэтому нет смысла указывать размер кэша больше, чем количество облаков:"
   ]
  },
  {
   "cell_type": "code",
   "execution_count": null,
   "id": "7d46af23-2b2b-49a1-a760-614baf219126",
   "metadata": {},
   "outputs": [],
   "source": [
    "MAX_CLOUDS_CACHE_SIZE = KITTI_DATASET_ADAPTOR.num_lidar_clouds"
   ]
  },
  {
   "cell_type": "markdown",
   "id": "21bc690a-5d09-4edd-80d0-a809b0f6fba2",
   "metadata": {},
   "source": [
    "### Сохранение и загрузка результатов<sup>[toc](#_toc)</sup>"
   ]
  },
  {
   "cell_type": "markdown",
   "id": "cf123c99-f190-4535-b5e6-b0cfeabec7bf",
   "metadata": {},
   "source": [
    "Результаты будем хранить в отдельно директории `results` в следующем формате:\n",
    "```\n",
    "{current workding dir}/\n",
    "  results/\n",
    "    lidar_trajectory_1_100.txt\n",
    "    lidar_trajectory_10_200.txt\n",
    "    ...\n",
    "```"
   ]
  },
  {
   "cell_type": "code",
   "execution_count": null,
   "id": "76c093f6-9044-4cb9-9e6d-1a6d3b187e3b",
   "metadata": {},
   "outputs": [],
   "source": [
    "TRAJECTORIES_DIRPATH = os.path.abspath('results')\n",
    "TRAJECTORY_FILENAME_PREFIX = 'lidar_trajectory'\n",
    "TRAJECTORY_FILENAME_EXT = 'txt'\n",
    "\n",
    "\n",
    "def get_results_filename(max_clouds_cache_size: int, min_distance_between_clouds_cm: int) -> str:\n",
    "    assert isinstance(max_clouds_cache_size, numbers.Integral)\n",
    "    assert isinstance(min_distance_between_clouds_cm, numbers.Integral)\n",
    "    assert max_clouds_cache_size <= MAX_CLOUDS_CACHE_SIZE\n",
    "    assert max_clouds_cache_size <= MAX_CLOUDS_CACHE_SIZE\n",
    "    return '{}_{}_{}.{}'.format(\n",
    "        TRAJECTORY_FILENAME_PREFIX,\n",
    "        max_clouds_cache_size,\n",
    "        min_distance_between_clouds_cm,\n",
    "        TRAJECTORY_FILENAME_EXT)\n",
    "\n",
    "\n",
    "def parse_results_filename(filename: str) -> T.Tuple[int, int]:\n",
    "    assert filename.startswith(TRAJECTORY_FILENAME_PREFIX)\n",
    "    basename, ext = os.path.splitext(filename)\n",
    "    assert ext == '.' + TRAJECTORY_FILENAME_EXT\n",
    "    max_clouds_cache_size, min_distance_between_clouds_cm = basename.split('_')[-2:]\n",
    "    max_clouds_cache_size = int(max_clouds_cache_size)\n",
    "    min_distance_between_clouds_cm = int(min_distance_between_clouds_cm)\n",
    "    return max_clouds_cache_size, min_distance_between_clouds_cm\n",
    "\n",
    "\n",
    "def get_results_filepath(max_clouds_cache_size: int, min_distance_between_clouds_cm: int) -> str:\n",
    "    return os.path.join(\n",
    "        TRAJECTORIES_DIRPATH,\n",
    "        get_results_filename(max_clouds_cache_size, min_distance_between_clouds_cm))\n",
    "\n",
    "\n",
    "max_clouds_cache_size = 123\n",
    "min_distance_between_clouds_cm = 456\n",
    "print('Example of results file for T = {}, d = {} [cm]:'.format(\n",
    "    max_clouds_cache_size, min_distance_between_clouds_cm))\n",
    "print(f'\\t{get_results_filename(max_clouds_cache_size, min_distance_between_clouds_cm)}')\n",
    "del max_clouds_cache_size, min_distance_between_clouds_cm\n",
    "\n",
    "os.makedirs(TRAJECTORIES_DIRPATH, exist_ok=True)\n",
    "print(f'\\nLidar odometry results are stored in <{TRAJECTORIES_DIRPATH}>')\n",
    "results_filenames = sorted(os.listdir(TRAJECTORIES_DIRPATH))\n",
    "if len(results_filenames) == 0:\n",
    "    print('No currently present results')\n",
    "else:\n",
    "    print('Currently presents results:')\n",
    "    for results_filename in sorted(os.listdir(TRAJECTORIES_DIRPATH)):\n",
    "        max_clouds_cache_size, min_distance_between_clouds_cm = parse_results_filename(results_filename)\n",
    "        print('\\t{} -> T = {}, d = {} [cm]'.format(results_filename, max_clouds_cache_size, min_distance_between_clouds_cm))\n",
    "    del results_filename, max_clouds_cache_size, min_distance_between_clouds_cm\n",
    "del results_filenames"
   ]
  },
  {
   "cell_type": "markdown",
   "id": "41f94e27-dfef-413b-94bc-ac57ba276a22",
   "metadata": {},
   "source": [
    "Для сохранения найденных поз/трансформов в файл и их считывание будем использовать функции ниже:"
   ]
  },
  {
   "cell_type": "code",
   "execution_count": null,
   "id": "41ca6a5b-3152-480d-811c-e43011d7e3ca",
   "metadata": {},
   "outputs": [],
   "source": [
    "def write_transforms_matrices_to_file(filepath: str, transforms_matrices: T.List[np.ndarray]):\n",
    "    with open(filepath, 'w') as f:\n",
    "        f.write('# QX QY QZ QW TX TY TZ TW\\n')\n",
    "        for transform_matrix in transforms_matrices:\n",
    "            verify_transform_matrix(transform_matrix)\n",
    "            qx, qy, qz, qw = convert_rotation_matrix_to_quaternion(transform_matrix[:3, :3])\n",
    "            tx, ty, tz = transform_matrix[:3, 3]\n",
    "            f.write('{} {} {} {} {} {} {}\\n'.format(qx, qy, qz, qw, tx, ty, tz))\n",
    "\n",
    "def read_transforms_matrices_from_file(filepath: str) -> T.List[np.ndarray]:\n",
    "    transforms_matrices: T.List[np.ndarray] = []\n",
    "    with open(filepath, 'r') as f:\n",
    "        for line in f.readlines():\n",
    "            if line.startswith('#'):\n",
    "                continue\n",
    "            qx, qy, qz, qw, tx, ty, tz = [float(v) for v in line.split()]\n",
    "            rotation_matrix = convert_quaternion_to_rotation_matrix([qx, qy, qz, qw])\n",
    "            translation_vector = np.array([tx, ty, tz])\n",
    "            transform_matrix = np.eye(4, dtype=np.float64)\n",
    "            transform_matrix[:3, :3] = rotation_matrix\n",
    "            transform_matrix[:3, 3] = translation_vector\n",
    "            transforms_matrices.append(transform_matrix)\n",
    "    return transforms_matrices"
   ]
  },
  {
   "cell_type": "markdown",
   "id": "dbf85790-ad57-4074-8555-4b1d8397016c",
   "metadata": {},
   "source": [
    "<a name='lo_impl_main'></a>\n",
    "## Основная работа<sup>[toc](#_toc)</sup>"
   ]
  },
  {
   "cell_type": "markdown",
   "id": "82b6c894-9195-4cac-bfdb-40484ffe05ab",
   "metadata": {},
   "source": [
    "### Находим траекторию лидара<sup>[toc](#_toc)</sup>"
   ]
  },
  {
   "cell_type": "markdown",
   "id": "9235a22a-6c7c-4239-b86f-365b60bce8bc",
   "metadata": {},
   "source": [
    "Результатом выполняния кода в ячейках данного блока должен быть список `lidar_trajectory` из поз центрального лидара в системе координат, связанной с положением самого превого лидара. Чтобы далее иметь возможность запустить блоки с сохранением, загрузкой и визуализацией результатов, ниже этот список можно инициализировать единичными трансформами или на основе траектории GPS-сенсора в системе меркатора.\n",
    "\n",
    "Требуется запустить лиданую одометрию для следующих параметров:\n",
    "1. Лидарная одометрия версии 1.0:\n",
    "    * `max_clouds_cache_size = 1`\n",
    "    * `min_distance_between_clouds_cm = 0` &mdash; всегда заменяем предыдущее облако новым\n",
    "2. Лидарная одометрия версии 2.0:\n",
    "    * `max_clouds_cache_size = 10`\n",
    "    * `min_distance_between_clouds_cm = 0` &mdash; всегда вытесняем самое старое облако новым\n",
    "3. Лидарная одометрия версии 3.0:\n",
    "    * `max_clouds_cache_size = 10`\n",
    "    * `min_distance_between_clouds_cm = 100` &mdash; вытесняем самое старое облако, только если сдвинулись отностиельно текущей позиции на $\\geqslant 100$ сантиметров\n",
    "4. То же самое, что и в предыдущем пункте, но теперь для диапазона значений `max_clouds_cache_size` от 1 до 20 (для 10 уже подсчитали в предыдущем пункте). Это нам потребуется чуть дальше, чтобы оценить, насколько лучше становится наша восстановленная карта в зависимости от параметров одометрии. Что касается параметра `min_distance_between_clouds_cm`, то можно либо просто оставить 1 метр, либо поставить что-то свое большее нуля, но главное, чтобы он бы одинаковый для всех размеров кэша."
   ]
  },
  {
   "cell_type": "code",
   "execution_count": null,
   "id": "98bc3770-a4a0-48f5-a633-3330b75935b0",
   "metadata": {},
   "outputs": [],
   "source": [
    "# Параметры для запуска одометрии\n",
    "max_clouds_cache_size: int = 10\n",
    "min_distance_between_clouds_cm: int = 100  # Внимание, в матрицах трансформов лежат метры. Не забудьте отмасштабировать на 100"
   ]
  },
  {
   "cell_type": "code",
   "execution_count": null,
   "id": "b26fc4ec-89cf-4538-b360-d9ae18eaa09a",
   "metadata": {},
   "outputs": [],
   "source": [
    "# TODO: Реализовать лидарную одометрию\n",
    "\n",
    "# Проверка, чтобы случайно не перетереть результаты\n",
    "results_filepath = get_results_filepath(max_clouds_cache_size, min_distance_between_clouds_cm)\n",
    "assert not os.path.isfile(results_filepath),\\\n",
    "    'File {os.path.basename(results_filepath} already exists. '\\\n",
    "    'Please disable this check manually or remove file if you want to recalculate odometry'\n",
    "del results_filepath"
   ]
  },
  {
   "cell_type": "code",
   "execution_count": null,
   "id": "9a0199df-9cb9-4d8f-8923-ed8ce2ffdce4",
   "metadata": {},
   "outputs": [],
   "source": [
    "# Для дальшнейшей работы пока инициализируем так\n",
    "lidar_trajectory = [np.eye(4) for _ in range(NUM_FRAMES)]\n",
    "\n",
    "# ... ну или, что ещё лучше, так\n",
    "lidar_trajectory = [np.eye(4)]\n",
    "for pose_idx in range(1, NUM_FRAMES):\n",
    "    lidar_trajectory.append(np.dot(\n",
    "        np.linalg.inv(gps_to_mercator_transforms[0]), gps_to_mercator_transforms[pose_idx]))"
   ]
  },
  {
   "cell_type": "markdown",
   "id": "1c094c89-0768-47fc-986c-1855c881632b",
   "metadata": {},
   "source": [
    "### Сохраняем полученную траекторию<sup>[toc](#_toc)</sup>"
   ]
  },
  {
   "cell_type": "code",
   "execution_count": null,
   "id": "97c6d21d-5adc-4da0-b193-bb60130d9186",
   "metadata": {},
   "outputs": [],
   "source": [
    "# results_filepath = get_results_filepath(max_clouds_cache_size, min_distance_between_clouds_cm)\n",
    "results_filepath = 'example.txt'\n",
    "print(f'Saving trajectory to <{results_filepath}>')\n",
    "\n",
    "write_transforms_matrices_to_file(results_filepath, lidar_trajectory)\n",
    "del results_filepath"
   ]
  },
  {
   "cell_type": "markdown",
   "id": "2602ee64-3b68-444d-be90-61cafb579355",
   "metadata": {},
   "source": [
    "<a name='lo_vis'></a>\n",
    "## Визуализация результатов<sup>[toc](#_toc)</sup>"
   ]
  },
  {
   "cell_type": "markdown",
   "id": "8bdae5b7-602f-4561-854a-a23d4fda228d",
   "metadata": {},
   "source": [
    "<a name='lo_vis_restored_map'></a>\n",
    "### Визуализация восстановленной карты\n",
    "\n",
    "В данном блоке просто проверяем себя, что то, что получили, смотрится адекватно"
   ]
  },
  {
   "cell_type": "markdown",
   "id": "135038b7-8b9c-4c1f-b879-783e81563ecd",
   "metadata": {},
   "source": [
    "#### Выбираем параметры для визуализации<sup>[toc](#_toc)</sup>"
   ]
  },
  {
   "cell_type": "code",
   "execution_count": null,
   "id": "5f872700-7c6f-4762-834d-ecbfef68fba7",
   "metadata": {},
   "outputs": [],
   "source": [
    "max_clouds_cache_size: int = 10\n",
    "min_distance_between_clouds_cm: int = 100"
   ]
  },
  {
   "cell_type": "markdown",
   "id": "48e94573-1db4-4ff4-b1f9-3c53fc1ddf38",
   "metadata": {},
   "source": [
    "#### Загружаем результаты из файла<sup>[toc](#_toc)</sup>"
   ]
  },
  {
   "cell_type": "code",
   "execution_count": null,
   "id": "0cc050a9-ba93-4a8e-9bd6-636b9fc699e0",
   "metadata": {},
   "outputs": [],
   "source": [
    "# results_filepath = get_results_filepath(max_clouds_cache_size, min_distance_between_clouds_cm)\n",
    "results_filepath = 'example.txt'\n",
    "print(f'Loading trajectory from <{results_filepath}>')\n",
    "\n",
    "lidar_trajectory = read_transforms_matrices_from_file(results_filepath)\n",
    "del results_filepath\n",
    "print(f'Loaded {len(lidar_trajectory)} poses/transforms')"
   ]
  },
  {
   "cell_type": "markdown",
   "id": "3811ae09-eb75-47dc-a3aa-3986413e92f3",
   "metadata": {},
   "source": [
    "#### Переводим облака лидара в единую систему координат<sup>[toc](#_toc)</sup>"
   ]
  },
  {
   "cell_type": "code",
   "execution_count": null,
   "id": "9d49f8db-0e1f-45a6-9b86-ff90683fe61c",
   "metadata": {},
   "outputs": [],
   "source": [
    "transformed_clouds_xyz = []\n",
    "for frame_idx in range(NUM_FRAMES):\n",
    "    cloud_xyz = KITTI_DATASET_ADAPTOR.read_lidar_cloud_xyzi(frame_idx)[..., :3]\n",
    "    transformed_cloud_xyz = transform_point_cloud_xyz(\n",
    "        cloud_xyz.astype(np.float64),\n",
    "        lidar_trajectory[frame_idx]).astype(np.float32)\n",
    "    transformed_clouds_xyz.append(transformed_cloud_xyz)"
   ]
  },
  {
   "cell_type": "markdown",
   "id": "e5605047-0939-4bf3-acb6-afcd2d7745e9",
   "metadata": {},
   "source": [
    "##### Создаем единое смерженное облако<sup>[toc](#_toc)</sup>"
   ]
  },
  {
   "cell_type": "code",
   "execution_count": null,
   "id": "5e423825-dc13-423d-9e5e-0539c60a2bad",
   "metadata": {},
   "outputs": [],
   "source": [
    "voxel_size = 0.5\n",
    "\n",
    "# Чтобы не перегружать визуализацию, пока ограничим отрисовку\n",
    "frames_range = range(90, 120)\n",
    "\n",
    "if frames_range is None:\n",
    "    frames_range = list(range(NUM_FRAMES))\n",
    "\n",
    "merged_cloud_xyz = np.vstack([transformed_clouds_xyz[frame_idx] for frame_idx in frames_range])\n",
    "print(f'Number of points in merged cloud: {merged_cloud_xyz.shape[0]}')\n",
    "\n",
    "merged_cloud_xyz = apply_voxel_grid(merged_cloud_xyz, voxel_size)\n",
    "print(f'Number of points after voxelization: {merged_cloud_xyz.shape[0]}')"
   ]
  },
  {
   "cell_type": "markdown",
   "id": "88f14c2d-6625-4790-827c-60722282a71f",
   "metadata": {},
   "source": [
    "#### Визуализируем смерженное облако<sup>[toc](#_toc)</sup>"
   ]
  },
  {
   "cell_type": "code",
   "execution_count": null,
   "id": "0afdc113-7e7a-4266-ac86-d1cfa64d7f07",
   "metadata": {},
   "outputs": [],
   "source": [
    "figure = create_plotly_figure(bgcolor='black')\n",
    "plot_cloud(merged_cloud_xyz, colors='red', figure=figure)\n",
    "figure.show()"
   ]
  },
  {
   "cell_type": "markdown",
   "id": "b516dacc-7e6c-471f-9826-d2487a635dfd",
   "metadata": {},
   "source": [
    "<a name='lo_vis_restored_map_sizes'></a>\n",
    "## График размера карты от параметров одометрии\n",
    "\n",
    "В предыдущем пункте при визуализации мы мержили лидарные облака согласно их позам, и вокселизировали смерженное облако, тем самым получая некоторую карту местности. Причем интуитивно можем определить качество карты, как размер полученного облака, так как чем лучше карта, тем она менее &laquo;пушистая&raquo;. Собственно, **нужно построить график зависимости размера восстановленной карты от размера кэша в одометрии (`max_clouds_cache_size`)**."
   ]
  },
  {
   "cell_type": "code",
   "execution_count": null,
   "id": "201c495d-1ca2-4696-8630-5e898efc2a78",
   "metadata": {},
   "outputs": [],
   "source": [
    "max_clouds_cache_sizes = list(range(1, 20))\n",
    "voxel_size = 0.125\n",
    "\n",
    "# TODO: Заполнить список\n",
    "restored_map_sizes = []\n",
    "for max_clouds_cache_size in max_clouds_cache_sizes:\n",
    "    # Вот тут вычисляем размер карты\n",
    "    restored_map_size = 10000\n",
    "\n",
    "    restored_map_sizes.append(restored_map_size)\n",
    "    del max_clouds_cache_size, restored_map_size"
   ]
  },
  {
   "cell_type": "code",
   "execution_count": null,
   "id": "74a7ea15-f12d-474d-bfef-6c36fb281d50",
   "metadata": {},
   "outputs": [],
   "source": [
    "plt.figure(figsize=(10, 8))\n",
    "plt.plot(\n",
    "    max_clouds_cache_sizes, restored_map_sizes,\n",
    "    linestyle='-', marker='o', color='b', alpha=0.5)\n",
    "plt.grid(which='both', linestyle='--', alpha=0.5);"
   ]
  },
  {
   "cell_type": "code",
   "execution_count": null,
   "id": "60cbcdbc-99e1-421f-b710-7df79fdbdf1d",
   "metadata": {},
   "outputs": [],
   "source": []
  }
 ],
 "metadata": {
  "kernelspec": {
   "display_name": "Python 3 (ipykernel)",
   "language": "python",
   "name": "python3"
  },
  "language_info": {
   "codemirror_mode": {
    "name": "ipython",
    "version": 3
   },
   "file_extension": ".py",
   "mimetype": "text/x-python",
   "name": "python",
   "nbconvert_exporter": "python",
   "pygments_lexer": "ipython3",
   "version": "3.9.19"
  }
 },
 "nbformat": 4,
 "nbformat_minor": 5
}
